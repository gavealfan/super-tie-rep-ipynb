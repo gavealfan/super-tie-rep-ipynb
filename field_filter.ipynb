{
 "cells": [
  {
   "cell_type": "code",
   "execution_count": 1,
   "metadata": {},
   "outputs": [],
   "source": [
    "import pandas as pd"
   ]
  },
  {
   "cell_type": "code",
   "execution_count": 2,
   "metadata": {},
   "outputs": [
    {
     "name": "stdout",
     "output_type": "stream",
     "text": [
      "<bound method NDFrame.head of               PaperID    AuthorID                FieldID\n",
      "0                  23  1243978490  [71924100, 177713679]\n",
      "1                  23  2582258949  [71924100, 177713679]\n",
      "2                  23  2582736345  [71924100, 177713679]\n",
      "3                  79  2662843304  [205649164, 45355965]\n",
      "4                  79  2683440697  [205649164, 45355965]\n",
      "...               ...         ...                    ...\n",
      "383211536  3217811007  2105102610  [39432304, 171146098]\n",
      "383211537  3217811007  2124977231  [39432304, 171146098]\n",
      "383211538  3217811007  2333854634  [39432304, 171146098]\n",
      "383211539  3217811007  2630813988  [39432304, 171146098]\n",
      "383211540  3217811007  3184663099  [39432304, 171146098]\n",
      "\n",
      "[383211541 rows x 3 columns]>\n"
     ]
    }
   ],
   "source": [
    "merged_df = pd.read_csv('merged.csv')\n",
    "print(merged_df.head)"
   ]
  },
  {
   "cell_type": "code",
   "execution_count": 11,
   "metadata": {},
   "outputs": [],
   "source": [
    "field_df = merged_df[['PaperID', 'FieldID']]\n"
   ]
  },
  {
   "cell_type": "code",
   "execution_count": 13,
   "metadata": {},
   "outputs": [
    {
     "name": "stdout",
     "output_type": "stream",
     "text": [
      "<bound method NDFrame.head of               PaperID                            FieldID\n",
      "0                  23              [71924100, 177713679]\n",
      "3                  79              [205649164, 45355965]\n",
      "5                 108             [142362112, 107038049]\n",
      "6                 125  [127413603, 110354214, 201995342]\n",
      "10                147    [71924100, 159110408, 74909509]\n",
      "...               ...                                ...\n",
      "383211527  3217810973               [41008148, 88463610]\n",
      "383211529  3217810981              [144024400, 26271046]\n",
      "383211532  3217810985               [95457728, 29595303]\n",
      "383211534  3217811000             [127413603, 195094911]\n",
      "383211536  3217811007              [39432304, 171146098]\n",
      "\n",
      "[117598493 rows x 2 columns]>\n"
     ]
    }
   ],
   "source": [
    "cleaned_field_df = field_df.drop_duplicates()\n",
    "print(cleaned_field_df.head)"
   ]
  },
  {
   "cell_type": "code",
   "execution_count": 5,
   "metadata": {},
   "outputs": [],
   "source": [
    "zip_df = merged_df[['PaperID', 'AuthorID']]"
   ]
  },
  {
   "cell_type": "code",
   "execution_count": 7,
   "metadata": {},
   "outputs": [
    {
     "name": "stdout",
     "output_type": "stream",
     "text": [
      "<bound method NDFrame.head of               PaperID                                           AuthorID\n",
      "0                  23               [1243978490, 2582258949, 2582736345]\n",
      "1                  79                           [2662843304, 2683440697]\n",
      "2                 108                                       [2126642415]\n",
      "3                 125   [1995014452, 2002579779, 2250382311, 2283694448]\n",
      "4                 147                           [2110272823, 2165699729]\n",
      "...               ...                                                ...\n",
      "117598488  3217810973                           [3215183579, 3216601582]\n",
      "117598489  3217810981               [2082336549, 2566297372, 3216234681]\n",
      "117598490  3217810985                           [2991855800, 3215611839]\n",
      "117598491  3217811000                           [3216966464, 3217411685]\n",
      "117598492  3217811007  [2105102610, 2124977231, 2333854634, 263081398...\n",
      "\n",
      "[117598493 rows x 2 columns]>\n"
     ]
    }
   ],
   "source": [
    "grouped_zip_df = zip_df.groupby('PaperID')['AuthorID'].agg(list).reset_index()\n",
    "print(grouped_zip_df.head)"
   ]
  },
  {
   "cell_type": "code",
   "execution_count": 8,
   "metadata": {},
   "outputs": [],
   "source": [
    "grouped_zip_df.to_csv('grouped_zip.csv', index=False)"
   ]
  },
  {
   "cell_type": "code",
   "execution_count": null,
   "metadata": {},
   "outputs": [],
   "source": []
  },
  {
   "cell_type": "code",
   "execution_count": 14,
   "metadata": {},
   "outputs": [
    {
     "name": "stdout",
     "output_type": "stream",
     "text": [
      "              PaperID                                           AuthorID  \\\n",
      "0                  23               [1243978490, 2582258949, 2582736345]   \n",
      "1                  79                           [2662843304, 2683440697]   \n",
      "2                 108                                       [2126642415]   \n",
      "3                 125   [1995014452, 2002579779, 2250382311, 2283694448]   \n",
      "4                 147                           [2110272823, 2165699729]   \n",
      "...               ...                                                ...   \n",
      "117598488  3217810973                           [3215183579, 3216601582]   \n",
      "117598489  3217810981               [2082336549, 2566297372, 3216234681]   \n",
      "117598490  3217810985                           [2991855800, 3215611839]   \n",
      "117598491  3217811000                           [3216966464, 3217411685]   \n",
      "117598492  3217811007  [2105102610, 2124977231, 2333854634, 263081398...   \n",
      "\n",
      "                                     FieldID  \n",
      "0                      [71924100, 177713679]  \n",
      "1                      [205649164, 45355965]  \n",
      "2                     [142362112, 107038049]  \n",
      "3          [127413603, 110354214, 201995342]  \n",
      "4            [71924100, 159110408, 74909509]  \n",
      "...                                      ...  \n",
      "117598488               [41008148, 88463610]  \n",
      "117598489              [144024400, 26271046]  \n",
      "117598490               [95457728, 29595303]  \n",
      "117598491             [127413603, 195094911]  \n",
      "117598492              [39432304, 171146098]  \n",
      "\n",
      "[117598493 rows x 3 columns]\n"
     ]
    }
   ],
   "source": [
    "merged_new_df = pd.merge(grouped_zip_df, cleaned_field_df, on='PaperID', how='outer')\n",
    "print(merged_new_df)"
   ]
  },
  {
   "cell_type": "code",
   "execution_count": 15,
   "metadata": {},
   "outputs": [],
   "source": [
    "merged_new_df.to_csv('merged_new.csv', index=False)"
   ]
  },
  {
   "cell_type": "code",
   "execution_count": 16,
   "metadata": {},
   "outputs": [
    {
     "name": "stdout",
     "output_type": "stream",
     "text": [
      "<bound method NDFrame.head of               PaperID                                           AuthorID  \\\n",
      "0                  23               [1243978490, 2582258949, 2582736345]   \n",
      "1                  79                           [2662843304, 2683440697]   \n",
      "2                 108                                       [2126642415]   \n",
      "3                 125   [1995014452, 2002579779, 2250382311, 2283694448]   \n",
      "4                 147                           [2110272823, 2165699729]   \n",
      "...               ...                                                ...   \n",
      "117598488  3217810973                           [3215183579, 3216601582]   \n",
      "117598489  3217810981               [2082336549, 2566297372, 3216234681]   \n",
      "117598490  3217810985                           [2991855800, 3215611839]   \n",
      "117598491  3217811000                           [3216966464, 3217411685]   \n",
      "117598492  3217811007  [2105102610, 2124977231, 2333854634, 263081398...   \n",
      "\n",
      "                                     FieldID  \n",
      "0                      [71924100, 177713679]  \n",
      "1                      [205649164, 45355965]  \n",
      "2                     [142362112, 107038049]  \n",
      "3          [127413603, 110354214, 201995342]  \n",
      "4            [71924100, 159110408, 74909509]  \n",
      "...                                      ...  \n",
      "117598488               [41008148, 88463610]  \n",
      "117598489              [144024400, 26271046]  \n",
      "117598490               [95457728, 29595303]  \n",
      "117598491             [127413603, 195094911]  \n",
      "117598492              [39432304, 171146098]  \n",
      "\n",
      "[117598493 rows x 3 columns]>\n"
     ]
    },
    {
     "ename": "",
     "evalue": "",
     "output_type": "error",
     "traceback": [
      "\u001b[1;31mThe Kernel crashed while executing code in the current cell or a previous cell. \n",
      "\u001b[1;31mPlease review the code in the cell(s) to identify a possible cause of the failure. \n",
      "\u001b[1;31mClick <a href='https://aka.ms/vscodeJupyterKernelCrash'>here</a> for more info. \n",
      "\u001b[1;31mView Jupyter <a href='command:jupyter.viewOutput'>log</a> for further details."
     ]
    }
   ],
   "source": [
    "test = pd.read_csv('merged_new.csv')\n",
    "print(test.head)"
   ]
  },
  {
   "cell_type": "code",
   "execution_count": 3,
   "metadata": {},
   "outputs": [],
   "source": [
    "filtered_df = pd.DataFrame(columns=['PaperID', 'AuthorID', 'FieldID'])"
   ]
  },
  {
   "cell_type": "code",
   "execution_count": null,
   "metadata": {},
   "outputs": [],
   "source": []
  }
 ],
 "metadata": {
  "kernelspec": {
   "display_name": "base",
   "language": "python",
   "name": "python3"
  },
  "language_info": {
   "codemirror_mode": {
    "name": "ipython",
    "version": 3
   },
   "file_extension": ".py",
   "mimetype": "text/x-python",
   "name": "python",
   "nbconvert_exporter": "python",
   "pygments_lexer": "ipython3",
   "version": "3.8.8"
  }
 },
 "nbformat": 4,
 "nbformat_minor": 2
}
