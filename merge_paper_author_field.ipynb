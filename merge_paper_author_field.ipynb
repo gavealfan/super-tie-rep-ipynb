{
 "cells": [
  {
   "cell_type": "markdown",
   "metadata": {},
   "source": [
    "## Merge SciSciNet_PaperFields.tsv and SciSciNet_PaperAuthorAffiliations.tsv\n",
    "CSV Result: merged.csv"
   ]
  },
  {
   "cell_type": "code",
   "execution_count": 1,
   "metadata": {},
   "outputs": [],
   "source": [
    "import pandas as pd"
   ]
  },
  {
   "cell_type": "markdown",
   "metadata": {},
   "source": [
    "### Import Data"
   ]
  },
  {
   "cell_type": "code",
   "execution_count": 2,
   "metadata": {},
   "outputs": [
    {
     "name": "stdout",
     "output_type": "stream",
     "text": [
      "<bound method NDFrame.head of               PaperID    FieldID\n",
      "0            18936224   71924100\n",
      "1            94748468  144024400\n",
      "2           113998959   71924100\n",
      "3            56740461  144133560\n",
      "4                  23   71924100\n",
      "...               ...        ...\n",
      "277494989  3204507150  188027245\n",
      "277494990  3204507160  187212893\n",
      "277494991  3204507164  143998085\n",
      "277494992  3204507164  126322002\n",
      "277494993  3204507171   34447519\n",
      "\n",
      "[277494994 rows x 2 columns]>\n"
     ]
    }
   ],
   "source": [
    "paper_field_df = pd.read_csv('SciSciNet_PaperFields.tsv', sep='\\t', usecols=['PaperID', 'FieldID'])\n",
    "print(paper_field_df.head)"
   ]
  },
  {
   "cell_type": "code",
   "execution_count": 3,
   "metadata": {},
   "outputs": [
    {
     "name": "stdout",
     "output_type": "stream",
     "text": [
      "<bound method NDFrame.head of               PaperID    AuthorID\n",
      "0                  15   199142497\n",
      "1                  15   680395887\n",
      "2                  23  1243978490\n",
      "3                  23  2582258949\n",
      "4                  23  2582736345\n",
      "...               ...         ...\n",
      "413869496  3217811007  2105102610\n",
      "413869497  3217811007  2124977231\n",
      "413869498  3217811007  2333854634\n",
      "413869499  3217811007  2630813988\n",
      "413869500  3217811007  3184663099\n",
      "\n",
      "[413869501 rows x 2 columns]>\n"
     ]
    }
   ],
   "source": [
    "paper_author_df = pd.read_csv('SciSciNet_PaperAuthorAffiliations.tsv', sep='\\t', usecols=['PaperID', 'AuthorID'])\n",
    "print(paper_author_df.head)"
   ]
  },
  {
   "cell_type": "code",
   "execution_count": 4,
   "metadata": {},
   "outputs": [
    {
     "name": "stdout",
     "output_type": "stream",
     "text": [
      "<bound method NDFrame.head of               PaperID                            FieldID\n",
      "0                  23              [71924100, 177713679]\n",
      "1                  79              [205649164, 45355965]\n",
      "2                 108             [142362112, 107038049]\n",
      "3                 125  [127413603, 110354214, 201995342]\n",
      "4                 147    [71924100, 159110408, 74909509]\n",
      "...               ...                                ...\n",
      "117633900  3217810973               [41008148, 88463610]\n",
      "117633901  3217810981              [144024400, 26271046]\n",
      "117633902  3217810985               [95457728, 29595303]\n",
      "117633903  3217811000             [127413603, 195094911]\n",
      "117633904  3217811007              [39432304, 171146098]\n",
      "\n",
      "[117633905 rows x 2 columns]>\n"
     ]
    }
   ],
   "source": [
    "paper_field_df = paper_field_df.groupby('PaperID')['FieldID'].apply(list).reset_index()\n",
    "print(paper_field_df.head)"
   ]
  },
  {
   "cell_type": "code",
   "execution_count": 5,
   "metadata": {},
   "outputs": [],
   "source": [
    "# Merge the two dataframes on PaperID\n",
    "merged_df = paper_author_df.merge(paper_field_df, on='PaperID')"
   ]
  },
  {
   "cell_type": "code",
   "execution_count": 6,
   "metadata": {},
   "outputs": [
    {
     "name": "stdout",
     "output_type": "stream",
     "text": [
      "<bound method NDFrame.head of               PaperID    AuthorID                FieldID\n",
      "0                  23  1243978490  [71924100, 177713679]\n",
      "1                  23  2582258949  [71924100, 177713679]\n",
      "2                  23  2582736345  [71924100, 177713679]\n",
      "3                  79  2662843304  [205649164, 45355965]\n",
      "4                  79  2683440697  [205649164, 45355965]\n",
      "...               ...         ...                    ...\n",
      "383211536  3217811007  2105102610  [39432304, 171146098]\n",
      "383211537  3217811007  2124977231  [39432304, 171146098]\n",
      "383211538  3217811007  2333854634  [39432304, 171146098]\n",
      "383211539  3217811007  2630813988  [39432304, 171146098]\n",
      "383211540  3217811007  3184663099  [39432304, 171146098]\n",
      "\n",
      "[383211541 rows x 3 columns]>\n"
     ]
    }
   ],
   "source": [
    "print(merged_df.head)"
   ]
  },
  {
   "cell_type": "code",
   "execution_count": 7,
   "metadata": {},
   "outputs": [],
   "source": [
    "merged_df.to_csv('merged.csv', index=False)"
   ]
  },
  {
   "cell_type": "code",
   "execution_count": null,
   "metadata": {},
   "outputs": [],
   "source": [
    "## DO NOT RUN: WILL CRASH KERNEL\n",
    "# Field list WITHOUT repetitions\n",
    "author_paper_field_df = merged_df.groupby('AuthorID').agg({\n",
    "    'PaperID': list,\n",
    "    'FieldID': lambda x: list(set([item for sublist in x for item in sublist]))\n",
    "}).reset_index()\n",
    "print(author_paper_field_df.head)"
   ]
  },
  {
   "cell_type": "code",
   "execution_count": null,
   "metadata": {},
   "outputs": [],
   "source": [
    "## DO NOT RUN\n",
    "author_paper_field_df.to_csv('author_paper_field.csv', index=False)"
   ]
  },
  {
   "cell_type": "code",
   "execution_count": 8,
   "metadata": {},
   "outputs": [
    {
     "ename": "",
     "evalue": "",
     "output_type": "error",
     "traceback": [
      "\u001b[1;31mThe Kernel crashed while executing code in the current cell or a previous cell. \n",
      "\u001b[1;31mPlease review the code in the cell(s) to identify a possible cause of the failure. \n",
      "\u001b[1;31mClick <a href='https://aka.ms/vscodeJupyterKernelCrash'>here</a> for more info. \n",
      "\u001b[1;31mView Jupyter <a href='command:jupyter.viewOutput'>log</a> for further details."
     ]
    }
   ],
   "source": [
    "## DO NOT RUN: WILL CRASH KERNEL\n",
    "# Field list WITH repetitions\n",
    "author_paper_field_rep_df = merged_df.groupby('AuthorID').agg({\n",
    "    'PaperID': list,\n",
    "    'FieldID': lambda x: [item for sublist in x for item in sublist]\n",
    "}).reset_index()\n",
    "print(author_paper_field_rep_df.head)\n",
    "author_paper_field_rep_df.to_csv('author_paper_field_rep.csv', index=False)"
   ]
  }
 ],
 "metadata": {
  "kernelspec": {
   "display_name": "base",
   "language": "python",
   "name": "python3"
  },
  "language_info": {
   "codemirror_mode": {
    "name": "ipython",
    "version": 3
   },
   "file_extension": ".py",
   "mimetype": "text/x-python",
   "name": "python",
   "nbconvert_exporter": "python",
   "pygments_lexer": "ipython3",
   "version": "3.8.8"
  }
 },
 "nbformat": 4,
 "nbformat_minor": 2
}
