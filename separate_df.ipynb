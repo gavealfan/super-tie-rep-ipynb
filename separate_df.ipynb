{
 "cells": [
  {
   "cell_type": "code",
   "execution_count": 1,
   "metadata": {},
   "outputs": [],
   "source": [
    "import numpy as np\n",
    "import pandas as pd\n",
    "import networkx as nx\n",
    "import re\n",
    "import os\n",
    "import matplotlib.pyplot as plt\n",
    "%matplotlib inline\n",
    "%config InlineBackend.figure_format = 'retina'\n",
    "from itertools import combinations\n",
    "import matplotlib.cm as cm\n",
    "from collections import Counter\n",
    "import ast\n"
   ]
  },
  {
   "cell_type": "code",
   "execution_count": 2,
   "metadata": {},
   "outputs": [
    {
     "name": "stdout",
     "output_type": "stream",
     "text": [
      "CSV file has been split into 10 parts.\n"
     ]
    }
   ],
   "source": [
    "df = pd.read_csv('merged_new.csv')\n",
    "\n",
    "num_parts = 10\n",
    "rows_per_part = len(df) // num_parts\n",
    "\n",
    "# Split the DataFrame into 10 parts\n",
    "for i in range(num_parts):\n",
    "    start_idx = i * rows_per_part\n",
    "    if i == num_parts - 1:  # Ensure the last part includes any remaining rows\n",
    "        end_idx = len(df)\n",
    "    else:\n",
    "        end_idx = (i + 1) * rows_per_part\n",
    "    \n",
    "    part_df = df.iloc[start_idx:end_idx]\n",
    "    part_df.to_csv(f'part_{i + 1}.csv', index=False)\n",
    "\n",
    "print(\"CSV file has been split into 10 parts.\")"
   ]
  },
  {
   "cell_type": "code",
   "execution_count": 10,
   "metadata": {},
   "outputs": [],
   "source": [
    "def explode(csv):\n",
    "  df = pd.read_csv(f'{csv}.csv')\n",
    "  df['AuthorID'] = df['AuthorID'].apply(lambda x: ast.literal_eval(x) if x else [])\n",
    "  exploded_df = df.explode('AuthorID')\n",
    "  author_df = exploded_df[['AuthorID', 'PaperID', 'FieldID']]\n",
    "  author_df.to_csv(f'exploded_{csv}.csv', index=False)\n"
   ]
  },
  {
   "cell_type": "code",
   "execution_count": 11,
   "metadata": {},
   "outputs": [],
   "source": [
    "csvlist = ['part_1', 'part_2', 'part_3', 'part_4', 'part_5', 'part_6','part_7', 'part_8', 'part_9', 'part_10']"
   ]
  },
  {
   "cell_type": "code",
   "execution_count": 12,
   "metadata": {},
   "outputs": [
    {
     "name": "stdout",
     "output_type": "stream",
     "text": [
      "exploded_part_1 is completed\n",
      "exploded_part_2 is completed\n",
      "exploded_part_3 is completed\n",
      "exploded_part_4 is completed\n",
      "exploded_part_5 is completed\n",
      "exploded_part_6 is completed\n",
      "exploded_part_7 is completed\n",
      "exploded_part_8 is completed\n",
      "exploded_part_9 is completed\n",
      "exploded_part_10 is completed\n"
     ]
    }
   ],
   "source": [
    "for csv in csvlist:\n",
    "  explode(csv)\n",
    "  print(f'exploded_{csv} is completed')\n"
   ]
  },
  {
   "cell_type": "code",
   "execution_count": 13,
   "metadata": {},
   "outputs": [
    {
     "name": "stdout",
     "output_type": "stream",
     "text": [
      "<bound method NDFrame.head of             AuthorID     PaperID                FieldID\n",
      "0         1243978490          23  [71924100, 177713679]\n",
      "1         2582258949          23  [71924100, 177713679]\n",
      "2         2582736345          23  [71924100, 177713679]\n",
      "3         2662843304          79  [205649164, 45355965]\n",
      "4         2683440697          79  [205649164, 45355965]\n",
      "...              ...         ...                    ...\n",
      "28832158  2578344502  1636162662  [41008148, 107457646]\n",
      "28832159  2681880875  1636162662  [41008148, 107457646]\n",
      "28832160  2104107278  1636162709  [71924100, 159047783]\n",
      "28832161  2171156164  1636162745   [86803240, 90856448]\n",
      "28832162  3168820795  1636162745   [86803240, 90856448]\n",
      "\n",
      "[28832163 rows x 3 columns]>\n"
     ]
    }
   ],
   "source": [
    "exploded_df1 = pd.read_csv('exploded_part_1.csv')\n",
    "print(exploded_df1.head)"
   ]
  },
  {
   "cell_type": "code",
   "execution_count": 14,
   "metadata": {},
   "outputs": [
    {
     "name": "stdout",
     "output_type": "stream",
     "text": [
      "<bound method NDFrame.head of             AuthorID     PaperID                           FieldID\n",
      "0           26757109  1636162927              [41008148, 11413529]\n",
      "1         2009271732  1636162927              [41008148, 11413529]\n",
      "2         2140267349  1636162927              [41008148, 11413529]\n",
      "3         2023216962  1636162975             [121332964, 62520636]\n",
      "4         2143010845  1636162975             [121332964, 62520636]\n",
      "...              ...         ...                               ...\n",
      "39571701  2494006817  2002986680             [205649164, 91375879]\n",
      "39571702  2659150923  2002986680             [205649164, 91375879]\n",
      "39571703  2676403624  2002986685             [95457728, 107993555]\n",
      "39571704  2165009231  2002986686  [205649164, 505870484, 18903297]\n",
      "39571705  2649510438  2002986686  [205649164, 505870484, 18903297]\n",
      "\n",
      "[39571706 rows x 3 columns]>\n"
     ]
    }
   ],
   "source": [
    "exploded_df2 = pd.read_csv('exploded_part_2.csv')\n",
    "print(exploded_df2.head)"
   ]
  },
  {
   "cell_type": "code",
   "execution_count": 15,
   "metadata": {},
   "outputs": [
    {
     "name": "stdout",
     "output_type": "stream",
     "text": [
      "<class 'str'>\n"
     ]
    }
   ],
   "source": [
    "print(type(exploded_df1['FieldID'][0]))"
   ]
  },
  {
   "cell_type": "code",
   "execution_count": 16,
   "metadata": {},
   "outputs": [],
   "source": [
    "exploded_df1['FieldID'] = exploded_df1['FieldID'].apply(lambda x: ast.literal_eval(x) if x else [])"
   ]
  },
  {
   "cell_type": "code",
   "execution_count": 17,
   "metadata": {},
   "outputs": [
    {
     "name": "stdout",
     "output_type": "stream",
     "text": [
      "<bound method NDFrame.head of             AuthorID                  PaperID  \\\n",
      "0               1968             [1527357417]   \n",
      "1               3809              [658362731]   \n",
      "2               4242              [647400699]   \n",
      "3               7762              [623108090]   \n",
      "4               7829  [328324571, 1521076585]   \n",
      "...              ...                      ...   \n",
      "15917377  3217809992              [573048486]   \n",
      "15917378  3217810022             [1504204380]   \n",
      "15917379  3217810146             [1146972988]   \n",
      "15917380  3217810245             [1595719892]   \n",
      "15917381  3217810830             [1507910090]   \n",
      "\n",
      "                                             FieldID  \n",
      "0                   [144024400, 15708023, 199539241]  \n",
      "1                              [127413603, 42475967]  \n",
      "2                              [142362112, 52119013]  \n",
      "3                                [17744445, 3116431]  \n",
      "4         [205649164, 166957645, 95457728, 15708023]  \n",
      "...                                              ...  \n",
      "15917377                       [142362112, 27206212]  \n",
      "15917378                       [71924100, 159110408]  \n",
      "15917379            [71924100, 164705383, 126322002]  \n",
      "15917380                       [142362112, 52119013]  \n",
      "15917381            [71924100, 154945302, 204321447]  \n",
      "\n",
      "[15917382 rows x 3 columns]>\n"
     ]
    }
   ],
   "source": [
    "grouped_df1 = exploded_df1.groupby('AuthorID').agg({\n",
    "    'PaperID': list,\n",
    "    'FieldID': lambda x: list(item for sublist in x for item in sublist)\n",
    "}).reset_index()\n",
    "print(grouped_df1.head)"
   ]
  },
  {
   "cell_type": "code",
   "execution_count": 18,
   "metadata": {},
   "outputs": [],
   "source": [
    "grouped_df1.to_csv('grouped_exploded_part_1.csv', index=False)"
   ]
  },
  {
   "cell_type": "code",
   "execution_count": 23,
   "metadata": {},
   "outputs": [],
   "source": [
    "def group(csv):\n",
    "  df = pd.read_csv(f'{csv}.csv')\n",
    "  df['FieldID'] = df['FieldID'].apply(lambda x: ast.literal_eval(x) if x else [])\n",
    "  grouped_df = df.groupby('AuthorID').agg({\n",
    "    'PaperID': list,\n",
    "    'FieldID': lambda x: list(item for sublist in x for item in sublist)\n",
    "  }).reset_index()\n",
    "  grouped_df.to_csv(f'grouped_{csv}.csv', index=False)"
   ]
  },
  {
   "cell_type": "code",
   "execution_count": 24,
   "metadata": {},
   "outputs": [],
   "source": [
    "exploded_list = ['exploded_part_2', 'exploded_part_3', 'exploded_part_4', 'exploded_part_5', \n",
    "                 'exploded_part_6','exploded_part_7', 'exploded_part_8', \n",
    "                 'exploded_part_9', 'exploded_part_10']"
   ]
  },
  {
   "cell_type": "code",
   "execution_count": 25,
   "metadata": {},
   "outputs": [
    {
     "name": "stdout",
     "output_type": "stream",
     "text": [
      "grouped_exploded_part_2 is completed\n",
      "grouped_exploded_part_3 is completed\n",
      "grouped_exploded_part_4 is completed\n",
      "grouped_exploded_part_5 is completed\n",
      "grouped_exploded_part_6 is completed\n",
      "grouped_exploded_part_7 is completed\n",
      "grouped_exploded_part_8 is completed\n",
      "grouped_exploded_part_9 is completed\n",
      "grouped_exploded_part_10 is completed\n"
     ]
    },
    {
     "ename": "",
     "evalue": "",
     "output_type": "error",
     "traceback": [
      "\u001b[1;31mThe Kernel crashed while executing code in the current cell or a previous cell. \n",
      "\u001b[1;31mPlease review the code in the cell(s) to identify a possible cause of the failure. \n",
      "\u001b[1;31mClick <a href='https://aka.ms/vscodeJupyterKernelCrash'>here</a> for more info. \n",
      "\u001b[1;31mView Jupyter <a href='command:jupyter.viewOutput'>log</a> for further details."
     ]
    }
   ],
   "source": [
    "for csv in exploded_list:\n",
    "  group(csv)\n",
    "  print(f'grouped_{csv} is completed')"
   ]
  }
 ],
 "metadata": {
  "kernelspec": {
   "display_name": "base",
   "language": "python",
   "name": "python3"
  },
  "language_info": {
   "codemirror_mode": {
    "name": "ipython",
    "version": 3
   },
   "file_extension": ".py",
   "mimetype": "text/x-python",
   "name": "python",
   "nbconvert_exporter": "python",
   "pygments_lexer": "ipython3",
   "version": "3.8.8"
  }
 },
 "nbformat": 4,
 "nbformat_minor": 2
}
