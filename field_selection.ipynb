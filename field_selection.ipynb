{
 "cells": [
  {
   "cell_type": "code",
   "execution_count": 1,
   "metadata": {},
   "outputs": [],
   "source": [
    "import pandas as pd\n",
    "from collections import Counter\n",
    "import ast"
   ]
  },
  {
   "cell_type": "markdown",
   "metadata": {},
   "source": [
    "## Filter out the authors who have Physics/Biology in their FieldIDs"
   ]
  },
  {
   "cell_type": "markdown",
   "metadata": {},
   "source": [
    "#### Create 'physics_1.csv' and 'biology_1.csv' based on '3. combined_grouped_exploded_part_9_grouped_exploded_part_10.csv'"
   ]
  },
  {
   "cell_type": "code",
   "execution_count": null,
   "metadata": {},
   "outputs": [],
   "source": [
    "df1 = pd.read_csv('combined_grouped_exploded_part_9_grouped_exploded_part_10.csv')\n",
    "print(df1.head)"
   ]
  },
  {
   "cell_type": "code",
   "execution_count": null,
   "metadata": {},
   "outputs": [],
   "source": [
    "df1['FieldID'] = df1['FieldID'].apply(lambda x: ast.literal_eval(x) if x else [])"
   ]
  },
  {
   "cell_type": "code",
   "execution_count": null,
   "metadata": {},
   "outputs": [],
   "source": [
    "def contains_value(lst, value):\n",
    "    return value in lst\n",
    "\n",
    "mask = df1['FieldID'].apply(lambda x: contains_value(x, 86803240))"
   ]
  },
  {
   "cell_type": "code",
   "execution_count": null,
   "metadata": {},
   "outputs": [],
   "source": [
    "boolean_series = pd.Series(mask)"
   ]
  },
  {
   "cell_type": "code",
   "execution_count": null,
   "metadata": {},
   "outputs": [
    {
     "name": "stdout",
     "output_type": "stream",
     "text": [
      "<bound method NDFrame.head of             AuthorID                                            PaperID  \\\n",
      "11             15251                                       [3024265409]   \n",
      "12             16490  [2902495700, 2903400199, 2943768392, 294600708...   \n",
      "14             18161  [2938559589, 2945890336, 2954786882, 295993974...   \n",
      "18             27238  [2916825406, 2994808784, 2997359992, 318840970...   \n",
      "23             30645  [2938371473, 2960588546, 2978068185, 298384432...   \n",
      "...              ...                                                ...   \n",
      "34025444  3217810473                                       [3215368072]   \n",
      "34025458  3217810588                                       [3215372563]   \n",
      "34025464  3217810648                                       [3217140403]   \n",
      "34025476  3217810718                                       [3213624167]   \n",
      "34025486  3217810825                                       [3214958159]   \n",
      "\n",
      "                                                    FieldID  \n",
      "11                                    [86803240, 153911025]  \n",
      "12        [86803240, 59822182, 86803240, 59822182, 86803...  \n",
      "14        [86803240, 18903297, 41008148, 107826830, 3943...  \n",
      "18        [86803240, 6557445, 86803240, 90856448, 868032...  \n",
      "23        [86803240, 502942594, 86803240, 502942594, 185...  \n",
      "...                                                     ...  \n",
      "34025444                               [86803240, 61434518]  \n",
      "34025458                               [86803240, 18903297]  \n",
      "34025464                               [86803240, 70721500]  \n",
      "34025476                              [86803240, 502942594]  \n",
      "34025486                              [86803240, 144027150]  \n",
      "\n",
      "[3485363 rows x 3 columns]>\n"
     ]
    }
   ],
   "source": [
    "test = df1[boolean_series]\n",
    "print(test.head)"
   ]
  },
  {
   "cell_type": "code",
   "execution_count": null,
   "metadata": {},
   "outputs": [],
   "source": [
    "test.to_csv('biology_1.csv', index=False)"
   ]
  },
  {
   "cell_type": "markdown",
   "metadata": {},
   "source": [
    "#### Create 'physics_2.csv' and 'biology_2.csv' based on 'final_author_paper_field_1.csv'"
   ]
  },
  {
   "cell_type": "code",
   "execution_count": null,
   "metadata": {},
   "outputs": [
    {
     "name": "stdout",
     "output_type": "stream",
     "text": [
      "<bound method NDFrame.head of             AuthorID                               PaperID  \\\n",
      "0                584  [2073132249, 2087060482, 2104020361]   \n",
      "1                978              [1944453522, 1978468375]   \n",
      "2               1139  [2008495914, 2029831011, 2072745990]   \n",
      "3               1799              [2028710588, 2032704531]   \n",
      "4               1968                          [1527357417]   \n",
      "...              ...                                   ...   \n",
      "47852666  3217810666                          [1898170596]   \n",
      "47852667  3217810684                          [2093030526]   \n",
      "47852668  3217810715                          [1995809114]   \n",
      "47852669  3217810830                          [1507910090]   \n",
      "47852670  3217810934                          [1967954122]   \n",
      "\n",
      "                                                    FieldID  \n",
      "0         [15744967, 77805123, 138496976, 15744967, 1384...  \n",
      "1               [144024400, 15708023, 144024400, 107993555]  \n",
      "2         [144024400, 107993555, 144024400, 107993555, 1...  \n",
      "3                [86803240, 203014093, 86803240, 203014093]  \n",
      "4                          [144024400, 15708023, 199539241]  \n",
      "...                                                     ...  \n",
      "47852666                             [127413603, 133731056]  \n",
      "47852667                               [71924100, 74909509]  \n",
      "47852668                    [71924100, 90924648, 126322002]  \n",
      "47852669                   [71924100, 154945302, 204321447]  \n",
      "47852670                               [33923547, 11413529]  \n",
      "\n",
      "[47852671 rows x 3 columns]>\n"
     ]
    }
   ],
   "source": [
    "df2 = pd.read_csv('final_author_paper_field_1.csv')\n",
    "print(df2.head)"
   ]
  },
  {
   "cell_type": "code",
   "execution_count": null,
   "metadata": {},
   "outputs": [],
   "source": [
    "df2['FieldID'] = df2['FieldID'].apply(lambda x: ast.literal_eval(x) if x else [])\n",
    "mask = df2['FieldID'].apply(lambda x: contains_value(x, 121332964))\n",
    "boolean_series = pd.Series(mask)\n",
    "test = df2[boolean_series]\n",
    "test.to_csv('physics_2.csv', index=False)"
   ]
  },
  {
   "cell_type": "code",
   "execution_count": null,
   "metadata": {},
   "outputs": [],
   "source": [
    "mask = df2['FieldID'].apply(lambda x: contains_value(x, 86803240))\n",
    "boolean_series = pd.Series(mask)\n",
    "test = df2[boolean_series]\n",
    "test.to_csv('biology_2.csv', index=False)"
   ]
  },
  {
   "cell_type": "markdown",
   "metadata": {},
   "source": [
    "#### Create 'physics_3.csv' and 'biology_3.csv' based on 'final_author_paper_field_2.csv' "
   ]
  },
  {
   "cell_type": "code",
   "execution_count": null,
   "metadata": {},
   "outputs": [
    {
     "name": "stdout",
     "output_type": "stream",
     "text": [
      "<bound method NDFrame.head of             AuthorID                   PaperID  \\\n",
      "0                584              [2114354996]   \n",
      "1                978              [2154615250]   \n",
      "2               1139              [2215953860]   \n",
      "3               2255              [2158499697]   \n",
      "4               3809  [2386291545, 2538241810]   \n",
      "...              ...                       ...   \n",
      "56550313  3217810777  [2331274378, 2593915007]   \n",
      "56550314  3217810790              [2224740358]   \n",
      "56550315  3217810791              [2136167435]   \n",
      "56550316  3217810861              [2372536193]   \n",
      "56550317  3217811010              [2594431951]   \n",
      "\n",
      "                                                    FieldID  \n",
      "0                                      [15744967, 77805123]  \n",
      "1                                     [15744967, 118552586]  \n",
      "2                                    [138885662, 124952713]  \n",
      "3                           [41008148, 31258907, 149635348]  \n",
      "4         [41008148, 42475967, 33923547, 105795698, 1621...  \n",
      "...                                                     ...  \n",
      "56550313         [71924100, 141071460, 71924100, 142724271]  \n",
      "56550314                    [185592680, 55493867, 43617362]  \n",
      "56550315                              [71924100, 140793950]  \n",
      "56550316                               [41008148, 49040817]  \n",
      "56550317                                 [144133560, 40700]  \n",
      "\n",
      "[56550318 rows x 3 columns]>\n"
     ]
    }
   ],
   "source": [
    "df3 = pd.read_csv('final_author_paper_field_2.csv')\n",
    "print(df3.head)"
   ]
  },
  {
   "cell_type": "code",
   "execution_count": null,
   "metadata": {},
   "outputs": [],
   "source": [
    "df3['FieldID'] = df3['FieldID'].apply(lambda x: ast.literal_eval(x) if x else [])\n",
    "mask = df3['FieldID'].apply(lambda x: contains_value(x, 121332964))\n",
    "boolean_series = pd.Series(mask)\n",
    "test = df3[boolean_series]\n",
    "test.to_csv('physics_3.csv', index=False)"
   ]
  },
  {
   "cell_type": "code",
   "execution_count": null,
   "metadata": {},
   "outputs": [],
   "source": [
    "mask = df3['FieldID'].apply(lambda x: contains_value(x, 86803240))\n",
    "boolean_series = pd.Series(mask)\n",
    "test = df3[boolean_series]\n",
    "test.to_csv('biology_3.csv', index=False)"
   ]
  },
  {
   "cell_type": "markdown",
   "metadata": {},
   "source": [
    "#### Combine 'physics_1.csv', 'physics_2.csv', and 'physics_3.csv' as 'physics.csv'"
   ]
  },
  {
   "cell_type": "code",
   "execution_count": 2,
   "metadata": {},
   "outputs": [
    {
     "name": "stdout",
     "output_type": "stream",
     "text": [
      "<bound method NDFrame.head of            AuthorID                                            PaperID  \\\n",
      "0               859                                       [2997906686]   \n",
      "1             11720  [2922159131, 2952027575, 2953830735, 297841475...   \n",
      "2             29902                           [2994436758, 3015804517]   \n",
      "3             33066   [2920952266, 2934533407, 2996795958, 3011899531]   \n",
      "4             41399  [2904974296, 2904974296, 2906147079, 290614707...   \n",
      "...             ...                                                ...   \n",
      "1620990  3217810133                                       [3215270160]   \n",
      "1620991  3217810326                                       [3215908686]   \n",
      "1620992  3217810484                                       [3147357421]   \n",
      "1620993  3217810709                                       [3217206944]   \n",
      "1620994  3217810739                                       [3020918101]   \n",
      "\n",
      "                                                   FieldID  \n",
      "0                                              [121332964]  \n",
      "1        [121332964, 97355855, 192562407, 159467904, 19...  \n",
      "2               [121332964, 15708023, 185592680, 42360764]  \n",
      "3        [41008148, 66938386, 33923547, 159390177, 1213...  \n",
      "4        [41008148, 33332235, 41008148, 33332235, 19256...  \n",
      "...                                                    ...  \n",
      "1620990                              [121332964, 30475298]  \n",
      "1620991                              [121332964, 44870925]  \n",
      "1620992                              [121332964, 24890656]  \n",
      "1620993                              [121332964, 57879066]  \n",
      "1620994                              [121332964, 44870925]  \n",
      "\n",
      "[1620995 rows x 3 columns]>\n"
     ]
    }
   ],
   "source": [
    "physics_1 = pd.read_csv('physics_1.csv')\n",
    "print(physics_1.head)"
   ]
  },
  {
   "cell_type": "code",
   "execution_count": 3,
   "metadata": {},
   "outputs": [
    {
     "name": "stdout",
     "output_type": "stream",
     "text": [
      "<bound method NDFrame.head of            AuthorID                                            PaperID  \\\n",
      "0              6193  [1968760771, 1971103515, 1990874338, 201840238...   \n",
      "1             29650  [1577085546, 1966306160, 1984197807, 202281086...   \n",
      "2             33066  [1646989965, 1804727741, 1976079975, 200312185...   \n",
      "3             37220                                         [99869186]   \n",
      "4             39382  [1890240398, 1989033454, 1993288530, 201717881...   \n",
      "...             ...                                                ...   \n",
      "2964750  3217802950                                       [1963767166]   \n",
      "2964751  3217805529                                       [1976932459]   \n",
      "2964752  3217806116                                       [2007456971]   \n",
      "2964753  3217808758                                       [1562316150]   \n",
      "2964754  3217808862                           [2022134216, 2028094450]   \n",
      "\n",
      "                                                   FieldID  \n",
      "0        [185592680, 147597530, 121864883, 41008148, 17...  \n",
      "1        [192562407, 49040817, 41999313, 185592680, 184...  \n",
      "2        [192562407, 159985019, 66938386, 121332964, 25...  \n",
      "3                                    [121332964, 33332235]  \n",
      "4        [121332964, 26873012, 121332964, 26873012, 121...  \n",
      "...                                                    ...  \n",
      "2964750                              [121332964, 57879066]  \n",
      "2964751                     [121332964, 1276947, 44870925]  \n",
      "2964752                   [121332964, 120665830, 30475298]  \n",
      "2964753                             [121332964, 184779094]  \n",
      "2964754  [121332964, 120665830, 71924100, 164705383, 12...  \n",
      "\n",
      "[2964755 rows x 3 columns]>\n"
     ]
    }
   ],
   "source": [
    "physics_2 = pd.read_csv('physics_2.csv')\n",
    "print(physics_2.head)"
   ]
  },
  {
   "cell_type": "code",
   "execution_count": 4,
   "metadata": {},
   "outputs": [
    {
     "name": "stdout",
     "output_type": "stream",
     "text": [
      "<bound method NDFrame.head of            AuthorID                                            PaperID  \\\n",
      "0             16490  [2111576205, 2118444795, 2144833547, 214803527...   \n",
      "1             33066  [2154104565, 2157280296, 2172942575, 224657227...   \n",
      "2             41399  [2111464457, 2112592942, 2116004243, 212001846...   \n",
      "3             46571  [2168694260, 2231295642, 2272989743, 227301907...   \n",
      "4             46586  [2111705896, 2128464438, 2128464438, 213623550...   \n",
      "...             ...                                                ...   \n",
      "2072082  3217806428                                       [2884375738]   \n",
      "2072083  3217806779                                       [2341209948]   \n",
      "2072084  3217807784  [2521821091, 2596766270, 2613749828, 276534323...   \n",
      "2072085  3217808161                           [2169240712, 2178139773]   \n",
      "2072086  3217809740                                       [2612520029]   \n",
      "\n",
      "                                                   FieldID  \n",
      "0        [86803240, 59822182, 86803240, 144027150, 5982...  \n",
      "1        [127413603, 66938386, 127413603, 187320778, 66...  \n",
      "2        [127313418, 26873012, 8010536, 192562407, 2687...  \n",
      "3        [121332964, 114614502, 33923547, 202444582, 33...  \n",
      "4        [121332964, 147597530, 121864883, 41008148, 17...  \n",
      "...                                                    ...  \n",
      "2072082                             [121332964, 161191863]  \n",
      "2072083                   [121332964, 46141821, 126838900]  \n",
      "2072084  [121332964, 185544564, 109214941, 121332964, 1...  \n",
      "2072085         [121332964, 24890656, 121332964, 57879066]  \n",
      "2072086                              [121332964, 26873012]  \n",
      "\n",
      "[2072087 rows x 3 columns]>\n"
     ]
    }
   ],
   "source": [
    "physics_3 = pd.read_csv('physics_3.csv')\n",
    "print(physics_3.head)"
   ]
  },
  {
   "cell_type": "code",
   "execution_count": 5,
   "metadata": {},
   "outputs": [],
   "source": [
    "def physics_combine(df1, df2, df3):\n",
    "  combined_df = pd.concat([df1, df2, df3])\n",
    "  combined_df['FieldID'] = combined_df['FieldID'].apply(lambda x: ast.literal_eval(x) if x else [])\n",
    "  combined_df['PaperID'] = combined_df['PaperID'].apply(lambda x: ast.literal_eval(x) if x else [])\n",
    "  grouped_df = combined_df.groupby('AuthorID').agg({\n",
    "    'PaperID': lambda x: list(item for sublist in x for item in sublist),\n",
    "    'FieldID': lambda x: list(item for sublist in x for item in sublist)\n",
    "  }).reset_index()\n",
    "  grouped_df.to_csv(f'physics.csv', index=False)"
   ]
  },
  {
   "cell_type": "code",
   "execution_count": 6,
   "metadata": {},
   "outputs": [],
   "source": [
    "physics_combine(physics_1, physics_2, physics_3)"
   ]
  },
  {
   "cell_type": "code",
   "execution_count": 7,
   "metadata": {},
   "outputs": [
    {
     "name": "stdout",
     "output_type": "stream",
     "text": [
      "<bound method NDFrame.head of            AuthorID                                            PaperID  \\\n",
      "0               859                                       [2997906686]   \n",
      "1              6193  [1968760771, 1971103515, 1990874338, 201840238...   \n",
      "2             11720  [2922159131, 2952027575, 2953830735, 297841475...   \n",
      "3             16490  [2111576205, 2118444795, 2144833547, 214803527...   \n",
      "4             29650  [1577085546, 1966306160, 1984197807, 202281086...   \n",
      "...             ...                                                ...   \n",
      "5454815  3217810133                                       [3215270160]   \n",
      "5454816  3217810326                                       [3215908686]   \n",
      "5454817  3217810484                                       [3147357421]   \n",
      "5454818  3217810709                                       [3217206944]   \n",
      "5454819  3217810739                                       [3020918101]   \n",
      "\n",
      "                                                   FieldID  \n",
      "0                                              [121332964]  \n",
      "1        [185592680, 147597530, 121864883, 41008148, 17...  \n",
      "2        [121332964, 97355855, 192562407, 159467904, 19...  \n",
      "3        [86803240, 59822182, 86803240, 144027150, 5982...  \n",
      "4        [192562407, 49040817, 41999313, 185592680, 184...  \n",
      "...                                                    ...  \n",
      "5454815                              [121332964, 30475298]  \n",
      "5454816                              [121332964, 44870925]  \n",
      "5454817                              [121332964, 24890656]  \n",
      "5454818                              [121332964, 57879066]  \n",
      "5454819                              [121332964, 44870925]  \n",
      "\n",
      "[5454820 rows x 3 columns]>\n"
     ]
    }
   ],
   "source": [
    "physics_df = pd.read_csv('physics.csv')\n",
    "print(physics_df.head)"
   ]
  },
  {
   "cell_type": "markdown",
   "metadata": {},
   "source": [
    "#### Combine 'biology_1.csv', 'biology_2.csv', 'biology_3.csv' as 'biology.csv'"
   ]
  },
  {
   "cell_type": "code",
   "execution_count": 8,
   "metadata": {},
   "outputs": [
    {
     "name": "stdout",
     "output_type": "stream",
     "text": [
      "<bound method NDFrame.head of            AuthorID                                            PaperID  \\\n",
      "0             15251                                       [3024265409]   \n",
      "1             16490  [2902495700, 2903400199, 2943768392, 294600708...   \n",
      "2             18161  [2938559589, 2945890336, 2954786882, 295993974...   \n",
      "3             27238  [2916825406, 2994808784, 2997359992, 318840970...   \n",
      "4             30645  [2938371473, 2960588546, 2978068185, 298384432...   \n",
      "...             ...                                                ...   \n",
      "3485358  3217810473                                       [3215368072]   \n",
      "3485359  3217810588                                       [3215372563]   \n",
      "3485360  3217810648                                       [3217140403]   \n",
      "3485361  3217810718                                       [3213624167]   \n",
      "3485362  3217810825                                       [3214958159]   \n",
      "\n",
      "                                                   FieldID  \n",
      "0                                    [86803240, 153911025]  \n",
      "1        [86803240, 59822182, 86803240, 59822182, 86803...  \n",
      "2        [86803240, 18903297, 41008148, 107826830, 3943...  \n",
      "3        [86803240, 6557445, 86803240, 90856448, 868032...  \n",
      "4        [86803240, 502942594, 86803240, 502942594, 185...  \n",
      "...                                                    ...  \n",
      "3485358                               [86803240, 61434518]  \n",
      "3485359                               [86803240, 18903297]  \n",
      "3485360                               [86803240, 70721500]  \n",
      "3485361                              [86803240, 502942594]  \n",
      "3485362                              [86803240, 144027150]  \n",
      "\n",
      "[3485363 rows x 3 columns]>\n"
     ]
    }
   ],
   "source": [
    "biology_1 = pd.read_csv('biology_1.csv')\n",
    "print(biology_1.head)"
   ]
  },
  {
   "cell_type": "code",
   "execution_count": 9,
   "metadata": {},
   "outputs": [
    {
     "name": "stdout",
     "output_type": "stream",
     "text": [
      "<bound method NDFrame.head of            AuthorID                                            PaperID  \\\n",
      "0              1799                           [2028710588, 2032704531]   \n",
      "1              5211  [1699139311, 1920580998, 1974796635, 199677831...   \n",
      "2              6478  [1725695560, 1874232925, 1971685267, 197402740...   \n",
      "3              7329                                       [2075476497]   \n",
      "4             15251  [289883683, 1571665470, 1576209224, 1814515265...   \n",
      "...             ...                                                ...   \n",
      "7690005  3217807574  [1584284229, 1973578164, 1975271094, 199782507...   \n",
      "7690006  3217808292  [226359186, 1969736422, 1979643713, 1986440237...   \n",
      "7690007  3217808795                                       [2003830286]   \n",
      "7690008  3217809457                                       [1972660582]   \n",
      "7690009  3217809850                                       [2057091478]   \n",
      "\n",
      "                                                   FieldID  \n",
      "0               [86803240, 203014093, 86803240, 203014093]  \n",
      "1        [71924100, 134018914, 126322002, 86803240, 134...  \n",
      "2        [185592680, 95444343, 86803240, 153911025, 719...  \n",
      "3                                    [86803240, 153911025]  \n",
      "4        [86803240, 42972112, 505870484, 86803240, 1890...  \n",
      "...                                                    ...  \n",
      "7690005  [39432304, 159390177, 39432304, 37037264, 3943...  \n",
      "7690006  [185592680, 8010536, 86803240, 59822182, 18559...  \n",
      "7690007                   [86803240, 203014093, 159047783]  \n",
      "7690008                   [86803240, 134018914, 126322002]  \n",
      "7690009                   [86803240, 159047783, 144027150]  \n",
      "\n",
      "[7690010 rows x 3 columns]>\n"
     ]
    }
   ],
   "source": [
    "biology_2 = pd.read_csv('biology_2.csv')\n",
    "print(biology_2.head)"
   ]
  },
  {
   "cell_type": "code",
   "execution_count": 10,
   "metadata": {},
   "outputs": [
    {
     "name": "stdout",
     "output_type": "stream",
     "text": [
      "<bound method NDFrame.head of            AuthorID                                            PaperID  \\\n",
      "0              5211  [2126588008, 2141646245, 2161506868, 217184132...   \n",
      "1              6478  [2112251604, 2117563332, 2140914980, 214923327...   \n",
      "2             15251  [2123874408, 2143495339, 2145700041, 215971979...   \n",
      "3             16490  [2111576205, 2118444795, 2144833547, 214803527...   \n",
      "4             18161  [2123974210, 2124249075, 2137139191, 215459104...   \n",
      "...             ...                                                ...   \n",
      "7467654  3217809394                                       [2607079718]   \n",
      "7467655  3217809556                                       [2127174421]   \n",
      "7467656  3217809612                                       [2147261712]   \n",
      "7467657  3217809622                                       [2461938043]   \n",
      "7467658  3217809670                                       [2755578092]   \n",
      "\n",
      "                                                   FieldID  \n",
      "0        [71924100, 126322002, 134018914, 86803240, 134...  \n",
      "1        [86803240, 70721500, 105702510, 86803240, 1539...  \n",
      "2        [86803240, 153911025, 86803240, 505870484, 140...  \n",
      "3        [86803240, 59822182, 86803240, 144027150, 5982...  \n",
      "4        [86803240, 18903297, 86803240, 18903297, 20564...  \n",
      "...                                                    ...  \n",
      "7467654                              [86803240, 144027150]  \n",
      "7467655                               [86803240, 54355233]  \n",
      "7467656                               [86803240, 33070731]  \n",
      "7467657                    [86803240, 59822182, 144027150]  \n",
      "7467658                   [86803240, 169760540, 105702510]  \n",
      "\n",
      "[7467659 rows x 3 columns]>\n"
     ]
    }
   ],
   "source": [
    "biology_3 = pd.read_csv('biology_3.csv')\n",
    "print(biology_3.head)"
   ]
  },
  {
   "cell_type": "code",
   "execution_count": 11,
   "metadata": {},
   "outputs": [],
   "source": [
    "def biology_combine(df1, df2, df3):\n",
    "  combined_df = pd.concat([df1, df2, df3])\n",
    "  combined_df['FieldID'] = combined_df['FieldID'].apply(lambda x: ast.literal_eval(x) if x else [])\n",
    "  combined_df['PaperID'] = combined_df['PaperID'].apply(lambda x: ast.literal_eval(x) if x else [])\n",
    "  grouped_df = combined_df.groupby('AuthorID').agg({\n",
    "    'PaperID': lambda x: list(item for sublist in x for item in sublist),\n",
    "    'FieldID': lambda x: list(item for sublist in x for item in sublist)\n",
    "  }).reset_index()\n",
    "  grouped_df.to_csv(f'biology.csv', index=False)"
   ]
  },
  {
   "cell_type": "code",
   "execution_count": 12,
   "metadata": {},
   "outputs": [],
   "source": [
    "biology_combine(biology_1, biology_2, biology_3)"
   ]
  },
  {
   "cell_type": "code",
   "execution_count": 13,
   "metadata": {},
   "outputs": [
    {
     "name": "stdout",
     "output_type": "stream",
     "text": [
      "<bound method NDFrame.head of             AuthorID                                            PaperID  \\\n",
      "0               1799                           [2028710588, 2032704531]   \n",
      "1               5211  [1699139311, 1920580998, 1974796635, 199677831...   \n",
      "2               6478  [1725695560, 1874232925, 1971685267, 197402740...   \n",
      "3               7329                                       [2075476497]   \n",
      "4              15251  [3024265409, 289883683, 1571665470, 1576209224...   \n",
      "...              ...                                                ...   \n",
      "15122181  3217810473                                       [3215368072]   \n",
      "15122182  3217810588                                       [3215372563]   \n",
      "15122183  3217810648                                       [3217140403]   \n",
      "15122184  3217810718                                       [3213624167]   \n",
      "15122185  3217810825                                       [3214958159]   \n",
      "\n",
      "                                                    FieldID  \n",
      "0                [86803240, 203014093, 86803240, 203014093]  \n",
      "1         [71924100, 134018914, 126322002, 86803240, 134...  \n",
      "2         [185592680, 95444343, 86803240, 153911025, 719...  \n",
      "3                                     [86803240, 153911025]  \n",
      "4         [86803240, 153911025, 86803240, 42972112, 5058...  \n",
      "...                                                     ...  \n",
      "15122181                               [86803240, 61434518]  \n",
      "15122182                               [86803240, 18903297]  \n",
      "15122183                               [86803240, 70721500]  \n",
      "15122184                              [86803240, 502942594]  \n",
      "15122185                              [86803240, 144027150]  \n",
      "\n",
      "[15122186 rows x 3 columns]>\n"
     ]
    }
   ],
   "source": [
    "biology_df = pd.read_csv('biology.csv')\n",
    "print(biology_df.head)"
   ]
  },
  {
   "cell_type": "markdown",
   "metadata": {},
   "source": [
    "## Produce the MostCommonFieldID for these authors who have Physics/Biology in their FieldIDs\n",
    "Resulting new CSVs:\n",
    "- physicist.csv\n",
    "- biologist.csv"
   ]
  },
  {
   "cell_type": "markdown",
   "metadata": {},
   "source": [
    "#### Physics"
   ]
  },
  {
   "cell_type": "code",
   "execution_count": 14,
   "metadata": {},
   "outputs": [],
   "source": [
    "physics_df['FieldID'] = physics_df['FieldID'].apply(lambda x: ast.literal_eval(x) if x else [])"
   ]
  },
  {
   "cell_type": "markdown",
   "metadata": {},
   "source": [
    "Someone that published Physics papers but actually the main field is Material Science"
   ]
  },
  {
   "cell_type": "code",
   "execution_count": 16,
   "metadata": {},
   "outputs": [
    {
     "name": "stdout",
     "output_type": "stream",
     "text": [
      "<bound method Counter.most_common of Counter({192562407: 11, 147789679: 4, 42360764: 4, 159467904: 3, 121332964: 2, 97355855: 2, 26873012: 1, 185592680: 1})>\n"
     ]
    }
   ],
   "source": [
    "print(Counter(physics_df['FieldID'][2]).most_common)"
   ]
  },
  {
   "cell_type": "markdown",
   "metadata": {},
   "source": [
    "Someone that has only one paper and one field (Physics)"
   ]
  },
  {
   "cell_type": "code",
   "execution_count": 17,
   "metadata": {},
   "outputs": [
    {
     "name": "stdout",
     "output_type": "stream",
     "text": [
      "<bound method Counter.most_common of Counter({121332964: 1})>\n"
     ]
    }
   ],
   "source": [
    "print(Counter(physics_df['FieldID'][0]).most_common)"
   ]
  },
  {
   "cell_type": "code",
   "execution_count": 30,
   "metadata": {},
   "outputs": [],
   "source": [
    "def most_common(lst):\n",
    "  return Counter(lst).most_common(1)[0][0]"
   ]
  },
  {
   "cell_type": "code",
   "execution_count": 31,
   "metadata": {},
   "outputs": [
    {
     "name": "stdout",
     "output_type": "stream",
     "text": [
      "<bound method NDFrame.head of            AuthorID                                            PaperID  \\\n",
      "0               859                                       [2997906686]   \n",
      "1              6193  [1968760771, 1971103515, 1990874338, 201840238...   \n",
      "2             11720  [2922159131, 2952027575, 2953830735, 297841475...   \n",
      "3             16490  [2111576205, 2118444795, 2144833547, 214803527...   \n",
      "4             29650  [1577085546, 1966306160, 1984197807, 202281086...   \n",
      "...             ...                                                ...   \n",
      "5454815  3217810133                                       [3215270160]   \n",
      "5454816  3217810326                                       [3215908686]   \n",
      "5454817  3217810484                                       [3147357421]   \n",
      "5454818  3217810709                                       [3217206944]   \n",
      "5454819  3217810739                                       [3020918101]   \n",
      "\n",
      "                                                   FieldID      Field  \n",
      "0                                              [121332964]  121332964  \n",
      "1        [185592680, 147597530, 121864883, 41008148, 17...  121864883  \n",
      "2        [121332964, 97355855, 192562407, 159467904, 19...  192562407  \n",
      "3        [86803240, 59822182, 86803240, 144027150, 5982...  144027150  \n",
      "4        [192562407, 49040817, 41999313, 185592680, 184...  192562407  \n",
      "...                                                    ...        ...  \n",
      "5454815                              [121332964, 30475298]  121332964  \n",
      "5454816                              [121332964, 44870925]  121332964  \n",
      "5454817                              [121332964, 24890656]  121332964  \n",
      "5454818                              [121332964, 57879066]  121332964  \n",
      "5454819                              [121332964, 44870925]  121332964  \n",
      "\n",
      "[5454820 rows x 4 columns]>\n"
     ]
    }
   ],
   "source": [
    "physics_df['Field'] = physics_df['FieldID'].apply(most_common)\n",
    "print(physics_df.head)"
   ]
  },
  {
   "cell_type": "code",
   "execution_count": 32,
   "metadata": {},
   "outputs": [
    {
     "name": "stdout",
     "output_type": "stream",
     "text": [
      "<bound method NDFrame.head of            AuthorID                                            PaperID  \\\n",
      "0               859                                       [2997906686]   \n",
      "5             29902                           [2994436758, 3015804517]   \n",
      "7             37220                                         [99869186]   \n",
      "8             39382  [1890240398, 1989033454, 1993288530, 201717881...   \n",
      "12            47134                                        [192980537]   \n",
      "...             ...                                                ...   \n",
      "5454815  3217810133                                       [3215270160]   \n",
      "5454816  3217810326                                       [3215908686]   \n",
      "5454817  3217810484                                       [3147357421]   \n",
      "5454818  3217810709                                       [3217206944]   \n",
      "5454819  3217810739                                       [3020918101]   \n",
      "\n",
      "                                                   FieldID      Field  \n",
      "0                                              [121332964]  121332964  \n",
      "5               [121332964, 15708023, 185592680, 42360764]  121332964  \n",
      "7                                    [121332964, 33332235]  121332964  \n",
      "8        [121332964, 26873012, 121332964, 26873012, 121...  121332964  \n",
      "12                                  [121332964, 202444582]  121332964  \n",
      "...                                                    ...        ...  \n",
      "5454815                              [121332964, 30475298]  121332964  \n",
      "5454816                              [121332964, 44870925]  121332964  \n",
      "5454817                              [121332964, 24890656]  121332964  \n",
      "5454818                              [121332964, 57879066]  121332964  \n",
      "5454819                              [121332964, 44870925]  121332964  \n",
      "\n",
      "[4205379 rows x 4 columns]>\n"
     ]
    }
   ],
   "source": [
    "physicist_df = physics_df.loc[physics_df['Field'] == 121332964]\n",
    "print(physicist_df.head)"
   ]
  },
  {
   "cell_type": "code",
   "execution_count": 33,
   "metadata": {},
   "outputs": [],
   "source": [
    "physicist_df.to_csv('physicist.csv')"
   ]
  },
  {
   "cell_type": "markdown",
   "metadata": {},
   "source": [
    "#### Biology"
   ]
  },
  {
   "cell_type": "code",
   "execution_count": 18,
   "metadata": {},
   "outputs": [],
   "source": [
    "biology_df['FieldID'] = biology_df['FieldID'].apply(lambda x: ast.literal_eval(x) if x else [])"
   ]
  },
  {
   "cell_type": "markdown",
   "metadata": {},
   "source": [
    "Someone who has a tie in their top fields, but our method of extracting the first one will always catch the Top-level field"
   ]
  },
  {
   "cell_type": "code",
   "execution_count": 19,
   "metadata": {},
   "outputs": [
    {
     "name": "stdout",
     "output_type": "stream",
     "text": [
      "<bound method Counter.most_common of Counter({86803240: 2, 203014093: 2})>\n"
     ]
    }
   ],
   "source": [
    "print(Counter(biology_df['FieldID'][0]).most_common)"
   ]
  },
  {
   "cell_type": "code",
   "execution_count": 26,
   "metadata": {},
   "outputs": [
    {
     "name": "stdout",
     "output_type": "stream",
     "text": [
      "86803240\n"
     ]
    }
   ],
   "source": [
    "print(Counter(biology_df['FieldID'][0]).most_common(1)[0][0])"
   ]
  },
  {
   "cell_type": "code",
   "execution_count": 34,
   "metadata": {},
   "outputs": [
    {
     "name": "stdout",
     "output_type": "stream",
     "text": [
      "<bound method NDFrame.head of             AuthorID                                            PaperID  \\\n",
      "0               1799                           [2028710588, 2032704531]   \n",
      "1               5211  [1699139311, 1920580998, 1974796635, 199677831...   \n",
      "2               6478  [1725695560, 1874232925, 1971685267, 197402740...   \n",
      "3               7329                                       [2075476497]   \n",
      "4              15251  [3024265409, 289883683, 1571665470, 1576209224...   \n",
      "...              ...                                                ...   \n",
      "15122181  3217810473                                       [3215368072]   \n",
      "15122182  3217810588                                       [3215372563]   \n",
      "15122183  3217810648                                       [3217140403]   \n",
      "15122184  3217810718                                       [3213624167]   \n",
      "15122185  3217810825                                       [3214958159]   \n",
      "\n",
      "                                                    FieldID      Field  \n",
      "0                [86803240, 203014093, 86803240, 203014093]   86803240  \n",
      "1         [71924100, 134018914, 126322002, 86803240, 134...  134018914  \n",
      "2         [185592680, 95444343, 86803240, 153911025, 719...   86803240  \n",
      "3                                     [86803240, 153911025]   86803240  \n",
      "4         [86803240, 153911025, 86803240, 42972112, 5058...   86803240  \n",
      "...                                                     ...        ...  \n",
      "15122181                               [86803240, 61434518]   86803240  \n",
      "15122182                               [86803240, 18903297]   86803240  \n",
      "15122183                               [86803240, 70721500]   86803240  \n",
      "15122184                              [86803240, 502942594]   86803240  \n",
      "15122185                              [86803240, 144027150]   86803240  \n",
      "\n",
      "[15122186 rows x 4 columns]>\n"
     ]
    }
   ],
   "source": [
    "biology_df['Field'] = biology_df['FieldID'].apply(most_common)\n",
    "print(biology_df.head)"
   ]
  },
  {
   "cell_type": "code",
   "execution_count": 35,
   "metadata": {},
   "outputs": [
    {
     "name": "stdout",
     "output_type": "stream",
     "text": [
      "<bound method NDFrame.head of             AuthorID                                            PaperID  \\\n",
      "0               1799                           [2028710588, 2032704531]   \n",
      "2               6478  [1725695560, 1874232925, 1971685267, 197402740...   \n",
      "3               7329                                       [2075476497]   \n",
      "4              15251  [3024265409, 289883683, 1571665470, 1576209224...   \n",
      "8              26083  [1620296515, 2063814843, 2097506658, 211582500...   \n",
      "...              ...                                                ...   \n",
      "15122181  3217810473                                       [3215368072]   \n",
      "15122182  3217810588                                       [3215372563]   \n",
      "15122183  3217810648                                       [3217140403]   \n",
      "15122184  3217810718                                       [3213624167]   \n",
      "15122185  3217810825                                       [3214958159]   \n",
      "\n",
      "                                                    FieldID     Field  \n",
      "0                [86803240, 203014093, 86803240, 203014093]  86803240  \n",
      "2         [185592680, 95444343, 86803240, 153911025, 719...  86803240  \n",
      "3                                     [86803240, 153911025]  86803240  \n",
      "4         [86803240, 153911025, 86803240, 42972112, 5058...  86803240  \n",
      "8         [86803240, 89423630, 86803240, 89423630, 86803...  86803240  \n",
      "...                                                     ...       ...  \n",
      "15122181                               [86803240, 61434518]  86803240  \n",
      "15122182                               [86803240, 18903297]  86803240  \n",
      "15122183                               [86803240, 70721500]  86803240  \n",
      "15122184                              [86803240, 502942594]  86803240  \n",
      "15122185                              [86803240, 144027150]  86803240  \n",
      "\n",
      "[12355506 rows x 4 columns]>\n"
     ]
    }
   ],
   "source": [
    "biologist_df = biology_df.loc[biology_df['Field'] == 86803240]\n",
    "print(biologist_df.head)"
   ]
  },
  {
   "cell_type": "code",
   "execution_count": 36,
   "metadata": {},
   "outputs": [],
   "source": [
    "biologist_df.to_csv('biologist.csv')"
   ]
  }
 ],
 "metadata": {
  "kernelspec": {
   "display_name": "base",
   "language": "python",
   "name": "python3"
  },
  "language_info": {
   "codemirror_mode": {
    "name": "ipython",
    "version": 3
   },
   "file_extension": ".py",
   "mimetype": "text/x-python",
   "name": "python",
   "nbconvert_exporter": "python",
   "pygments_lexer": "ipython3",
   "version": "3.8.8"
  }
 },
 "nbformat": 4,
 "nbformat_minor": 2
}
