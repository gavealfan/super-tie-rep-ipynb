{
 "cells": [
  {
   "cell_type": "code",
   "execution_count": 1,
   "metadata": {},
   "outputs": [],
   "source": [
    "import pandas as pd\n",
    "import ast"
   ]
  },
  {
   "cell_type": "markdown",
   "metadata": {},
   "source": [
    "## Biology"
   ]
  },
  {
   "cell_type": "markdown",
   "metadata": {},
   "source": [
    "### Import Data"
   ]
  },
  {
   "cell_type": "code",
   "execution_count": 2,
   "metadata": {},
   "outputs": [
    {
     "name": "stdout",
     "output_type": "stream",
     "text": [
      "<bound method NDFrame.head of        AuthorID                                            PaperID  \\\n",
      "0      74802189  [2904125616, 2904308689, 2907092959, 290709295...   \n",
      "1     111492307  [2903186346, 2903323897, 2903323897, 290445404...   \n",
      "2     123284392  [2902814870, 2903050566, 2903920099, 290524329...   \n",
      "3     141495597  [2903087503, 2903533144, 2905840501, 290629925...   \n",
      "4     243962069  [2908311228, 2911294343, 2911294343, 291168455...   \n",
      "..          ...                                                ...   \n",
      "105  2929976680  [2902900111, 2909145676, 2912573713, 291433977...   \n",
      "106  2947008211  [2903206653, 2904155504, 2904182562, 290454474...   \n",
      "107  3019157524  [2905222943, 2906690745, 2906779103, 290729375...   \n",
      "108  3061773886  [2903322602, 2903482389, 2906033277, 291126523...   \n",
      "109  3097634839  [2902428586, 2902967607, 2904255642, 290510623...   \n",
      "\n",
      "                                               FieldID  \n",
      "0    [185592680, 502942594, 71924100, 90924648, 126...  \n",
      "1    [185592680, 12554922, 185592680, 55493867, 185...  \n",
      "2    [71924100, 502942594, 71924100, 126322002, 142...  \n",
      "3    [86803240, 54355233, 86803240, 54355233, 86803...  \n",
      "4    [71924100, 60644358, 86803240, 54355233, 86803...  \n",
      "..                                                 ...  \n",
      "105  [71924100, 126322002, 90924648, 71924100, 5029...  \n",
      "106  [205649164, 18903297, 86803240, 2522767166, 19...  \n",
      "107  [192562407, 42360764, 185592680, 42360764, 185...  \n",
      "108  [86803240, 70721500, 185592680, 98274493, 7192...  \n",
      "109  [185592680, 6557445, 192562407, 49040817, 1855...  \n",
      "\n",
      "[110 rows x 3 columns]>\n"
     ]
    }
   ],
   "source": [
    "bio_df = pd.read_csv('biologist_1000.csv')\n",
    "print(bio_df.head)"
   ]
  },
  {
   "cell_type": "markdown",
   "metadata": {},
   "source": [
    "### Building Author Profile"
   ]
  },
  {
   "cell_type": "markdown",
   "metadata": {},
   "source": [
    "#### Experiment on bio_df.iloc[0]"
   ]
  },
  {
   "cell_type": "code",
   "execution_count": 3,
   "metadata": {},
   "outputs": [
    {
     "name": "stdout",
     "output_type": "stream",
     "text": [
      "<bound method NDFrame.head of    AuthorID                                            PaperID  \\\n",
      "0  74802189  [2904125616, 2904308689, 2907092959, 290709295...   \n",
      "\n",
      "                                             FieldID  \n",
      "0  [185592680, 502942594, 71924100, 90924648, 126...  >\n"
     ]
    }
   ],
   "source": [
    "exp = bio_df.iloc[[0]]\n",
    "print(exp.head)"
   ]
  },
  {
   "cell_type": "code",
   "execution_count": 4,
   "metadata": {},
   "outputs": [
    {
     "name": "stderr",
     "output_type": "stream",
     "text": [
      "<ipython-input-4-b66e591d4cef>:1: SettingWithCopyWarning: \n",
      "A value is trying to be set on a copy of a slice from a DataFrame.\n",
      "Try using .loc[row_indexer,col_indexer] = value instead\n",
      "\n",
      "See the caveats in the documentation: https://pandas.pydata.org/pandas-docs/stable/user_guide/indexing.html#returning-a-view-versus-a-copy\n",
      "  exp['PaperID'] = exp['PaperID'].apply(lambda x: ast.literal_eval(x) if x else [])\n"
     ]
    }
   ],
   "source": [
    "exp['PaperID'] = exp['PaperID'].apply(lambda x: ast.literal_eval(x) if x else [])"
   ]
  },
  {
   "cell_type": "code",
   "execution_count": 5,
   "metadata": {},
   "outputs": [
    {
     "name": "stdout",
     "output_type": "stream",
     "text": [
      "1225\n"
     ]
    }
   ],
   "source": [
    "print(len(exp['PaperID'][0]))\n"
   ]
  },
  {
   "cell_type": "code",
   "execution_count": 6,
   "metadata": {},
   "outputs": [
    {
     "ename": "",
     "evalue": "",
     "output_type": "error",
     "traceback": [
      "\u001b[1;31mThe Kernel crashed while executing code in the current cell or a previous cell. \n",
      "\u001b[1;31mPlease review the code in the cell(s) to identify a possible cause of the failure. \n",
      "\u001b[1;31mClick <a href='https://aka.ms/vscodeJupyterKernelCrash'>here</a> for more info. \n",
      "\u001b[1;31mView Jupyter <a href='command:jupyter.viewOutput'>log</a> for further details."
     ]
    }
   ],
   "source": [
    "paper_df = pd.read_csv('SciSciNet_Papers.tsv', sep='\\t')\n",
    "print(paper_df.head)\n"
   ]
  }
 ],
 "metadata": {
  "kernelspec": {
   "display_name": "base",
   "language": "python",
   "name": "python3"
  },
  "language_info": {
   "codemirror_mode": {
    "name": "ipython",
    "version": 3
   },
   "file_extension": ".py",
   "mimetype": "text/x-python",
   "name": "python",
   "nbconvert_exporter": "python",
   "pygments_lexer": "ipython3",
   "version": "3.8.8"
  }
 },
 "nbformat": 4,
 "nbformat_minor": 2
}
